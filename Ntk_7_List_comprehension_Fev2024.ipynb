{
  "cells": [
    {
      "attachments": {},
      "cell_type": "markdown",
      "metadata": {
        "id": "L2KmdwTlNwpP"
      },
      "source": [
        "**List Comprehension -- avoid to use \"For Loops\" and code quickly**"
      ]
    },
    {
      "attachments": {},
      "cell_type": "markdown",
      "metadata": {
        "id": "M7-UVqDWS6CP"
      },
      "source": [
        "https://book.pythontips.com/en/latest/comprehensions.html"
      ]
    },
    {
      "attachments": {},
      "cell_type": "markdown",
      "metadata": {
        "id": "cvdRLdfbS5jh"
      },
      "source": [
        "List comprehensions provide a short and concise way to create lists. It consists of square brackets containing an expression followed by a for clause, then zero or more for or if clauses.\n",
        "The expressions can be anything, meaning you can put in all kinds of objects in lists.\n",
        "The result would be a new list made after the evaluation of the expression in context of the if and for clauses."
      ]
    },
    {
      "cell_type": "code",
      "execution_count": null,
      "metadata": {
        "id": "uluxxQW0N9v8"
      },
      "outputs": [],
      "source": [
        "# What are the main issues this code do?\n",
        "# What can be improved?\n",
        "squares = []\n",
        "for i in range(5):\n",
        "    squares.append(i * i)\n",
        "print(squares)"
      ]
    },
    {
      "attachments": {},
      "cell_type": "markdown",
      "metadata": {
        "id": "UUJ5_L6bOeuF"
      },
      "source": [
        "**Another way to do the same with fewer code lines**"
      ]
    },
    {
      "cell_type": "code",
      "execution_count": null,
      "metadata": {
        "id": "9g9kTKplOqwD"
      },
      "outputs": [],
      "source": [
        "# new_list = [expression for member in iterable]\n",
        "squares = [i * i for i in range(5)] # list comprehension\n",
        "print(squares)\n",
        "# What is the data pattern structure done?"
      ]
    },
    {
      "attachments": {},
      "cell_type": "markdown",
      "metadata": {
        "id": "b3B7C4mGO3OG"
      },
      "source": [
        "**Other applications of List Comprehension**"
      ]
    },
    {
      "cell_type": "code",
      "execution_count": null,
      "metadata": {
        "id": "V2bmRIPkPJns"
      },
      "outputs": [],
      "source": [
        "# Compare the codes below, which one is more effective?\n",
        "\n",
        "def cube(i):\n",
        "    return i*i*i\n",
        "\n",
        "cubes = [cube(i) for i in range(5)]\n",
        "print(cubes)"
      ]
    },
    {
      "attachments": {},
      "cell_type": "markdown",
      "metadata": {
        "id": "EQl26MPyTNrT"
      },
      "source": [
        "**Filtering examples using list Comprehension**  "
      ]
    },
    {
      "cell_type": "code",
      "execution_count": null,
      "metadata": {
        "id": "SxFoUFIOPczz"
      },
      "outputs": [],
      "source": [
        "# Filtering examples using List Comprehension\n",
        "\n",
        "# new_list = [expression for member in iterable (if conditional)]\n",
        "# even = par //// odd = ímpar\n",
        "\n",
        "evens = [i for i in range(20) if i%2 == 0]\n",
        "print(evens)\n",
        "\n",
        "def is_even(i):\n",
        "    return i%2 == 0\n",
        "\n",
        "evens = [i for i in range(20) if is_even(i)]\n",
        "print(evens)"
      ]
    },
    {
      "attachments": {},
      "cell_type": "markdown",
      "metadata": {
        "id": "QV61pLuiQRqX"
      },
      "source": [
        "**Substituting elements in a quicker way**"
      ]
    },
    {
      "cell_type": "code",
      "execution_count": null,
      "metadata": {
        "id": "LP5hr8wfQGLP"
      },
      "outputs": [],
      "source": [
        "# new_list = [expression (if else conditional) for member in iterable]\n",
        "a = [1, 2, 3, 4, 5, 6, 7, 8, 9]\n",
        "b = [10 if i > 5 else 0 for i in a]\n",
        "print(b)\n",
        "\n",
        "# How to use the command \"np.where\" to do the same job?"
      ]
    },
    {
      "attachments": {},
      "cell_type": "markdown",
      "metadata": {
        "id": "ChWOtf_MQjIB"
      },
      "source": [
        "**Comprehension setting -- specific reasoning**"
      ]
    },
    {
      "cell_type": "code",
      "execution_count": null,
      "metadata": {
        "id": "leVDNiLSQwt2"
      },
      "outputs": [],
      "source": [
        "quote = \"hello everybody\"\n",
        "unique_vowels = {i for i in quote if i in 'aeiou'}\n",
        "print(unique_vowels)\n",
        "\n",
        "squares = {i: i * i for i in range(5)}\n",
        "print(squares)"
      ]
    },
    {
      "attachments": {},
      "cell_type": "markdown",
      "metadata": {
        "id": "XK_nPSqiQ1Rs"
      },
      "source": [
        "**List comprehension as a generator -- compare the two examples**"
      ]
    },
    {
      "cell_type": "code",
      "execution_count": null,
      "metadata": {
        "id": "03b4caCLRQJg"
      },
      "outputs": [],
      "source": [
        "# new_generator = (expression for i in iterable)\n",
        "# What are the differences between the codes below?\n",
        "# Do they the same output?\n",
        "\n",
        "s = sum([i * i for i in range(1000)])\n",
        "print(s)\n",
        "\n",
        "s = sum((i * i for i in range(1000)))\n",
        "print(s)\n",
        "\n",
        "import sys # why do we need this command?\n",
        "\n",
        "l = [i * i for i in range(1000)]\n",
        "print(sys.getsizeof(l), \"bytes\")\n",
        "g = (i * i for i in range(1000))\n",
        "print(sys.getsizeof(g), \"bytes\")"
      ]
    },
    {
      "attachments": {},
      "cell_type": "markdown",
      "metadata": {
        "id": "CzWdyfqnRjtU"
      },
      "source": [
        "**Compare these two examples. Which should you choose?**"
      ]
    },
    {
      "cell_type": "code",
      "execution_count": 9,
      "metadata": {
        "id": "qohNM7AOR6Ds"
      },
      "outputs": [
        {
          "name": "stdout",
          "output_type": "stream",
          "text": [
            "0.0687 seconds\n",
            "0.1090 seconds\n"
          ]
        }
      ],
      "source": [
        "from timeit import default_timer as timer\n",
        "start = timer()\n",
        "a = [i*i for i in range(1_000_000)]\n",
        "stop = timer()\n",
        "print(f'{stop-start:.4f} seconds')\n",
        "\n",
        "start = timer()\n",
        "a = []\n",
        "for i in range(1_000_000):\n",
        "    a.append(i*i)\n",
        "stop = timer()\n",
        "print(f'{stop-start:.4f} seconds')"
      ]
    }
  ],
  "metadata": {
    "colab": {
      "provenance": []
    },
    "kernelspec": {
      "display_name": "Python 3",
      "name": "python3"
    },
    "language_info": {
      "codemirror_mode": {
        "name": "ipython",
        "version": 3
      },
      "file_extension": ".py",
      "mimetype": "text/x-python",
      "name": "python",
      "nbconvert_exporter": "python",
      "pygments_lexer": "ipython3",
      "version": "3.11.4"
    }
  },
  "nbformat": 4,
  "nbformat_minor": 0
}
